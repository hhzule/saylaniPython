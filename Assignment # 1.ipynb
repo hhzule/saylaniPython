{
 "cells": [
  {
   "cell_type": "code",
   "execution_count": null,
   "metadata": {},
   "outputs": [],
   "source": [
    "print(\"Twinkle, twinkle, little star,\\n\\t  How i wonder what you are!\\n\\t\\t Up above the world so high,\\n\\t\\t Like the diamond in the sky.\\nTwinkle, twinkle, little star,\\n\\t  How i wonder what you are!\")"
   ]
  },
  {
   "cell_type": "code",
   "execution_count": null,
   "metadata": {},
   "outputs": [],
   "source": [
    "import sys\n",
    "print(sys.version)"
   ]
  },
  {
   "cell_type": "code",
   "execution_count": null,
   "metadata": {},
   "outputs": [],
   "source": [
    "from datetime import datetime\n",
    "now = datetime.now()\n",
    "print(\"Current date and time is\",now)"
   ]
  },
  {
   "cell_type": "code",
   "execution_count": null,
   "metadata": {},
   "outputs": [],
   "source": [
    "output = input(\"Kindly input the radius to calculate the area of a circle: \")\n",
    "output = int(output)\n",
    "area = output*output*3.141\n",
    "print(f\"the area of a triangle with the given radius is :\",area)"
   ]
  },
  {
   "cell_type": "code",
   "execution_count": null,
   "metadata": {},
   "outputs": [],
   "source": [
    "first_name = input(\"Kindly enter your first name :\")\n",
    "last_name = input(\"Kindly enter your last name :\")\n",
    "\n",
    "def reverse(string): \n",
    "    string = string[::-1] \n",
    "    return string \n",
    "\n",
    "first_name = reverse(first_name)\n",
    "last_name = reverse(last_name)\n",
    "full_name = first_name + \" \" + last_name\n",
    "print(full_name)"
   ]
  },
  {
   "cell_type": "markdown",
   "metadata": {},
   "source": [
    "# Assignment # 2"
   ]
  },
  {
   "cell_type": "code",
   "execution_count": null,
   "metadata": {},
   "outputs": [],
   "source": [
    "math = int(input(\"Enter Maths marks:\"))\n",
    "english = int(input(\"Enter English marks:\"))\n",
    "urdu = int(input(\"Enter Urdu marks:\"))\n",
    "science = int(input(\"Enter Science marks:\"))\n",
    "s_std = int(input(\"Enter Social Studies:\"))\n",
    "\n",
    "def grades(a):\n",
    "    if (a > 80):\n",
    "        return \"A\"\n",
    "    elif (a > 70):\n",
    "        return \"B\"\n",
    "    elif (a > 60):\n",
    "        return \"C\"\n",
    "    elif (a > 50):\n",
    "        return \"D\"\n",
    "    else:\n",
    "        print(\"Work harder to improve grades.\")\n",
    "        \n",
    "m_g = grades(math)\n",
    "e_g = grades(english)\n",
    "u_g = grades(urdu)\n",
    "s_g = grades(science)\n",
    "s_s_g = grades(s_std)\n",
    "total = english+math+urdu+science+s_std\n",
    "\n",
    "print(\"\\t\\t\\t\\tMARKS SHEET\\t\\t\\t\\t\")\n",
    "print(\"SUBJECT\\t\\t\\t\\tMARKS\\t\\tGRADES\")\n",
    "print(\"Maths\\t\\t\\t\\t{0}\\t\\t {1}\".format(math,m_g))\n",
    "print(\"English\\t\\t\\t\\t{0}\\t\\t {1}\".format(english,e_g))  \n",
    "print(\"Urdu \\t\\t\\t\\t{0}\\t\\t {1}\".format(urdu,u_g))\n",
    "print(\"Science\\t\\t\\t\\t{0}\\t\\t {1}\".format(science,s_g))            \n",
    "print(\"Social Studies\\t\\t\\t{0}\\t\\t {1}\".format(s_std,s_s_g))\n",
    "print(\"Total marks:\\t\\t\\t{}\".format(total))\n"
   ]
  },
  {
   "cell_type": "code",
   "execution_count": null,
   "metadata": {},
   "outputs": [],
   "source": [
    "num = input(\"Insert the number to find out whether its odd or even:\")\n",
    "def odd_or_even(a):\n",
    "    if a % 2 == 0:\n",
    "        return \" even\"\n",
    "    else:\n",
    "        return \" odd\"\n",
    "result = odd_or_even(int(num))\n",
    "print(\"The given number is {0}\".format(result))"
   ]
  },
  {
   "cell_type": "code",
   "execution_count": null,
   "metadata": {},
   "outputs": [],
   "source": [
    "input_list =input(\"insert the list to find its length\")\n",
    "input_list= ''.join(e for e in input_list if e.isalnum())\n",
    "\n",
    "counter = 0\n",
    "for s in input_list:\n",
    "    counter = counter+1\n",
    "        \n",
    "print(\"Length of the input string is:\", counter)\n"
   ]
  },
  {
   "cell_type": "code",
   "execution_count": null,
   "metadata": {},
   "outputs": [],
   "source": [
    "num_list= input(\"Enter the elements of list:\")\n",
    "input_list= ''.join(e for e in num_list if e.isalnum())\n",
    "\n",
    "def sum_list(items):\n",
    "    sum_numbers = 0\n",
    "    for x in items:\n",
    "        x=int(x)\n",
    "        sum_numbers += x\n",
    "    return sum_numbers\n",
    "\n",
    "print(\"the sum is:\",sum_list(input_list))"
   ]
  },
  {
   "cell_type": "code",
   "execution_count": null,
   "metadata": {},
   "outputs": [],
   "source": []
  },
  {
   "cell_type": "code",
   "execution_count": null,
   "metadata": {},
   "outputs": [],
   "source": [
    "list1 = [] \n",
    "  \n",
    "num = int(input(\"Enter number of elements in list: \")) \n",
    "   \n",
    "for i in range(1, num + 1): \n",
    "    ele = int(input(\"Enter elements: \")) \n",
    "    list1.append(ele) \n",
    "      \n",
    "print(\"Largest element is:\", max(list1))"
   ]
  },
  {
   "cell_type": "code",
   "execution_count": null,
   "metadata": {},
   "outputs": [],
   "source": []
  },
  {
   "cell_type": "code",
   "execution_count": null,
   "metadata": {},
   "outputs": [],
   "source": []
  },
  {
   "cell_type": "code",
   "execution_count": null,
   "metadata": {},
   "outputs": [],
   "source": []
  },
  {
   "cell_type": "code",
   "execution_count": null,
   "metadata": {},
   "outputs": [],
   "source": []
  }
 ],
 "metadata": {
  "kernelspec": {
   "display_name": "Python 3",
   "language": "python",
   "name": "python3"
  },
  "language_info": {
   "codemirror_mode": {
    "name": "ipython",
    "version": 3
   },
   "file_extension": ".py",
   "mimetype": "text/x-python",
   "name": "python",
   "nbconvert_exporter": "python",
   "pygments_lexer": "ipython3",
   "version": "3.7.4"
  }
 },
 "nbformat": 4,
 "nbformat_minor": 2
}
